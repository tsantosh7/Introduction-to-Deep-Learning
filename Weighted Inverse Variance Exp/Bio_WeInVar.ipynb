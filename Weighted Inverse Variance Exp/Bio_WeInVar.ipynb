{
 "cells": [
  {
   "cell_type": "code",
   "execution_count": 18,
   "metadata": {
    "collapsed": true
   },
   "outputs": [],
   "source": [
    "from gensim.scripts.glove2word2vec import glove2word2vec\n",
    "\n",
    "# file = '/home/stirunag/pre-trained_word_embeddings/glove/glove.6B.50d.txt'\n",
    "# glove2word2vec(glove_input_file=file, word2vec_output_file=\"gensim_glove.6B.50d.txt\")\n",
    "\n",
    "###Finally, read the word2vec txt to a gensim model using KeyedVectors:\n",
    "\n",
    "from gensim.models.keyedvectors import KeyedVectors\n",
    "\n",
    "# glove_model = KeyedVectors.load_word2vec_format(\"gensim_glove.6B.50d.txt\", binary=False)\n",
    "\n",
    "\n",
    "# glove_model = KeyedVectors.load_word2vec_format(\"/home/synoptica/google_wv/GoogleNews-vectors-negative300.bin\", binary=True)\n",
    "# glove_model = KeyedVectors.load_word2vec_format(\"/home/stirunag/models/model_OTAR_200d-3mc-10it.bin\", binary=True)\n",
    "glove_model = KeyedVectors.load_word2vec_format(\"/home/stirunag/pre-trained_word_embeddings/PubMed-w2v.bin\", binary=True)\n"
   ]
  },
  {
   "cell_type": "code",
   "execution_count": 19,
   "metadata": {
    "collapsed": true
   },
   "outputs": [],
   "source": [
    "# euclidean distance between two vectors\n",
    "import math\n",
    "def l2_dist(v1, v2):\n",
    "    sum = 0.0\n",
    "    if len(v1) == len(v2):\n",
    "        for i in range(len(v1)):\n",
    "            delta = v1[i] - v2[i]\n",
    "            sum += delta * delta\n",
    "        return math.sqrt(sum)"
   ]
  },
  {
   "cell_type": "code",
   "execution_count": 20,
   "metadata": {},
   "outputs": [
    {
     "name": "stderr",
     "output_type": "stream",
     "text": [
      "/home/synoptica/anaconda3/lib/python3.6/site-packages/ipykernel_launcher.py:4: DeprecationWarning: Call to deprecated `wv` (Attribute will be removed in 4.0.0, use self instead).\n",
      "  after removing the cwd from sys.path.\n"
     ]
    }
   ],
   "source": [
    "import numpy as np\n",
    "from scipy import spatial\n",
    "\n",
    "index2word_set = set(glove_model.wv.index2word)\n",
    "\n",
    "def avg_feature_vector(sentence, model, num_features, index2word_set):\n",
    "    words = sentence.split()\n",
    "    feature_vec = np.zeros((num_features, ), dtype='float32')\n",
    "    n_words = 0\n",
    "    for word in words:\n",
    "        if word in index2word_set:\n",
    "            n_words += 1\n",
    "            feature_vec = np.add(feature_vec, model[word])\n",
    "    if (n_words > 0):\n",
    "        feature_vec = np.divide(feature_vec, n_words)\n",
    "    return feature_vec\n",
    "\n"
   ]
  },
  {
   "cell_type": "code",
   "execution_count": 21,
   "metadata": {
    "collapsed": true
   },
   "outputs": [],
   "source": [
    "# https://en.wikipedia.org/wiki/Sensor_fusion\n",
    "# https://en.wikipedia.org/wiki/Inverse-variance_weighting\n",
    "\n",
    "def WeInVar_feature_vector(sentence, model, num_features, index2word_set):\n",
    "    words = sentence.split()\n",
    "    feature_vec = np.zeros((num_features, ), dtype='float32')\n",
    "    n_words = 0\n",
    "    var_combined = 0.0\n",
    "    for word in words:\n",
    "        if word in index2word_set:\n",
    "            n_words += 1\n",
    "            feature_vec = np.add(feature_vec, np.divide(model[word], np.var(model[word])))\n",
    "            var_combined = var_combined + np.divide(1, np.var(model[word]))\n",
    "    if (n_words > 0):\n",
    "        feature_vec = np.divide(feature_vec, var_combined)\n",
    "    return feature_vec\n"
   ]
  },
  {
   "cell_type": "code",
   "execution_count": 23,
   "metadata": {
    "collapsed": true
   },
   "outputs": [],
   "source": [
    "def print_similarities(sentence_1, sentence_2):\n",
    "    s1_afv = avg_feature_vector(sentence_1, model=glove_model,   num_features=200, index2word_set=index2word_set)\n",
    "    s2_afv = avg_feature_vector(sentence_2, model=glove_model,num_features=200, index2word_set=index2word_set)\n",
    "    \n",
    "    print('consine: ' + str(1 - spatial.distance.cosine(s1_afv, s2_afv)))\n",
    "    print('Euclidean: '+ str(1-l2_dist(s1_afv, s2_afv)))\n",
    "    \n",
    "    print('\\n*** Proposed ****\\n')\n",
    "    \n",
    "    s1_cfv = WeInVar_feature_vector(sentence_1, model=glove_model,num_features=200, index2word_set=index2word_set)\n",
    "    s2_cfv = WeInVar_feature_vector(sentence_2, model=glove_model,num_features=200, index2word_set=index2word_set)\n",
    "    \n",
    "    print('consine: ' + str(1 - spatial.distance.cosine(s1_cfv, s2_cfv)))\n",
    "    print('Euclidean: '+ str(l2_dist(s1_cfv, s2_cfv)))\n"
   ]
  },
  {
   "cell_type": "code",
   "execution_count": 24,
   "metadata": {},
   "outputs": [
    {
     "name": "stdout",
     "output_type": "stream",
     "text": [
      "consine: 0.8062567371440514\n",
      "Euclidean: 0.41394073634083695\n",
      "\n",
      "*** Proposed ****\n",
      "\n",
      "consine: 0.883587113170943\n",
      "Euclidean: 0.39562342386087146\n"
     ]
    }
   ],
   "source": [
    "# Test case 1\n",
    "# The two sentences are completely equivalent, as they mean the same thing.  \n",
    "\n",
    "sentence_1 = 'Hydrolysis of β-lactam antibiotics by β-lactamases is the most common mechanism of resistance for this class of antibacterial agents in clinically important Gram-negative bacteria.'\n",
    "sentence_2 = 'In Gram-negative organisms, the most common β-lactam resistance mechanism involves β-lactamase mediated hydrolysis resulting in subsequent inactivation of the antibiotic.'\n",
    "\n",
    "print_similarities(sentence_1, sentence_2)\n"
   ]
  },
  {
   "cell_type": "code",
   "execution_count": 13,
   "metadata": {},
   "outputs": [
    {
     "name": "stdout",
     "output_type": "stream",
     "text": [
      "consine: 0.5039790158821237\n",
      "Euclidean: -15.246293521639725\n",
      "\n",
      "*** Proposed ****\n",
      "\n",
      "consine: 0.5280778514742848\n",
      "Euclidean: -3.0574552481511166\n"
     ]
    }
   ],
   "source": [
    "# Test case 2\n",
    "# The two sentences are mostly equivalent, but some unimportant details differ.\n",
    "\n",
    "sentence_1 = 'In May 2010, the troops attempted to invade Kabul.'\n",
    "sentence_2 = 'The US army invaded Kabul on May 7th last year, 2010.'\n",
    "\n",
    "print_similarities(sentence_1, sentence_2)\n",
    "\n",
    "\n",
    "      "
   ]
  },
  {
   "cell_type": "code",
   "execution_count": 14,
   "metadata": {},
   "outputs": [
    {
     "name": "stdout",
     "output_type": "stream",
     "text": [
      "consine: 0.9216786957209082\n",
      "Euclidean: -9.207444581963573\n",
      "\n",
      "*** Proposed ****\n",
      "\n",
      "consine: 0.23665655201919966\n",
      "Euclidean: -24.47056554001784\n"
     ]
    }
   ],
   "source": [
    "# Test 3\n",
    "# The two sentences are roughly equivalent, but some important information differs/missing.\n",
    "\n",
    "sentence_1 = 'We were able to confirm that the cancer tissues had reduced expression of miR-126 and miR-424,and increased expression of miR-15b, miR-16,miR-146a, miR-155, and miR-223.'\n",
    "sentence_2 = 'A recent study showed that the expression of miR-126 and miR424 had reduced by the cancer tissues.'\n",
    "\n",
    "print_similarities(sentence_1, sentence_2)    "
   ]
  },
  {
   "cell_type": "code",
   "execution_count": 16,
   "metadata": {},
   "outputs": [
    {
     "name": "stdout",
     "output_type": "stream",
     "text": [
      "consine: 0.7911708736132597\n",
      "Euclidean: -15.65566962575403\n",
      "\n",
      "*** Proposed ****\n",
      "\n",
      "consine: 0.7404254659009778\n",
      "Euclidean: -15.967624796314077\n"
     ]
    }
   ],
   "source": [
    "# Test 4\n",
    "# The two sentences are not equivalent, but share some details.\n",
    "sentence_1 = 'This article discusses the current data on using anti HER2 therapies to treat CNS metastasis as well as the newer anti-HER2 agents.'\n",
    "sentence_2 = 'Breast cancers with HER2 amplification have a higher risk of CNS metastasis and poorer prognosis.'\n",
    "\n",
    "\n",
    "print_similarities(sentence_1, sentence_2)           "
   ]
  },
  {
   "cell_type": "code",
   "execution_count": 15,
   "metadata": {},
   "outputs": [
    {
     "name": "stdout",
     "output_type": "stream",
     "text": [
      "consine: 0.5671597595232845\n",
      "Euclidean: -21.537127749201833\n",
      "\n",
      "*** Proposed ****\n",
      "\n",
      "consine: 0.530497981571845\n",
      "Euclidean: -20.492187119457732\n"
     ]
    }
   ],
   "source": [
    "# Test 5\n",
    "# The two sentences are not equivalent, but are on the same topic.\n",
    "\n",
    "sentence_1 = 'Membrane proteins are proteins that interact with biological membranes.'\n",
    "sentence_2 = 'Previous studies have demonstrated that membrane proteins are implicated in many diseases because they are positioned at the apex of signaling pathways that regulate cellular processes.'\n",
    "\n",
    "print_similarities(sentence_1, sentence_2)"
   ]
  },
  {
   "cell_type": "code",
   "execution_count": 17,
   "metadata": {},
   "outputs": [
    {
     "name": "stdout",
     "output_type": "stream",
     "text": [
      "consine: 0.4648352878144746\n",
      "Euclidean: -18.469715874829976\n",
      "\n",
      "*** Proposed ****\n",
      "\n",
      "consine: 0.12280367033678063\n",
      "Euclidean: -17.11616624141387\n"
     ]
    }
   ],
   "source": [
    "# Test 6\n",
    "# The two sentences are on same topics.\n",
    "\n",
    "sentence_1 = 'Here we show that both C/EBPα and NFI-A bind the region responsible for miR-223 upregulation upon RA treatment'\n",
    "sentence_2 = 'Isoleucine could not interact with ligand fragment 44 (LF44),which contains amino group.'\n",
    "\n",
    "print_similarities(sentence_1, sentence_2)      "
   ]
  },
  {
   "cell_type": "code",
   "execution_count": null,
   "metadata": {
    "collapsed": true
   },
   "outputs": [],
   "source": []
  }
 ],
 "metadata": {
  "kernelspec": {
   "display_name": "Python 3",
   "language": "python",
   "name": "python3"
  },
  "language_info": {
   "codemirror_mode": {
    "name": "ipython",
    "version": 3
   },
   "file_extension": ".py",
   "mimetype": "text/x-python",
   "name": "python",
   "nbconvert_exporter": "python",
   "pygments_lexer": "ipython3",
   "version": "3.6.4"
  }
 },
 "nbformat": 4,
 "nbformat_minor": 2
}
