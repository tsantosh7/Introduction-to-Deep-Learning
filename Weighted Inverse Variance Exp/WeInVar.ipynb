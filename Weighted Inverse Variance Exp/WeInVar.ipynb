{
 "cells": [
  {
   "cell_type": "code",
   "execution_count": 1,
   "metadata": {
    "collapsed": true
   },
   "outputs": [],
   "source": [
    "from gensim.scripts.glove2word2vec import glove2word2vec\n",
    "\n",
    "# file = '/home/stirunag/pre-trained_word_embeddings/glove/glove.6B.50d.txt'\n",
    "# glove2word2vec(glove_input_file=file, word2vec_output_file=\"gensim_glove.6B.50d.txt\")\n",
    "\n",
    "###Finally, read the word2vec txt to a gensim model using KeyedVectors:\n",
    "\n",
    "from gensim.models.keyedvectors import KeyedVectors\n",
    "\n",
    "# glove_model = KeyedVectors.load_word2vec_format(\"gensim_glove.6B.50d.txt\", binary=False)\n",
    "\n",
    "\n",
    "glove_model = KeyedVectors.load_word2vec_format(\"/home/synoptica/google_wv/GoogleNews-vectors-negative300.bin\", binary=True)"
   ]
  },
  {
   "cell_type": "code",
   "execution_count": 2,
   "metadata": {},
   "outputs": [
    {
     "name": "stderr",
     "output_type": "stream",
     "text": [
      "/home/synoptica/anaconda3/lib/python3.6/site-packages/ipykernel_launcher.py:4: DeprecationWarning: Call to deprecated `wv` (Attribute will be removed in 4.0.0, use self instead).\n",
      "  after removing the cwd from sys.path.\n"
     ]
    }
   ],
   "source": [
    "import numpy as np\n",
    "from scipy import spatial\n",
    "\n",
    "index2word_set = set(glove_model.wv.index2word)\n",
    "\n",
    "def avg_feature_vector(sentence, model, num_features, index2word_set):\n",
    "    words = sentence.split()\n",
    "    feature_vec = np.zeros((num_features, ), dtype='float32')\n",
    "    n_words = 0\n",
    "    for word in words:\n",
    "        if word in index2word_set:\n",
    "            n_words += 1\n",
    "            feature_vec = np.add(feature_vec, model[word])\n",
    "    if (n_words > 0):\n",
    "        feature_vec = np.divide(feature_vec, n_words)\n",
    "    return feature_vec\n",
    "\n"
   ]
  },
  {
   "cell_type": "code",
   "execution_count": 3,
   "metadata": {
    "collapsed": true
   },
   "outputs": [],
   "source": [
    "# https://en.wikipedia.org/wiki/Sensor_fusion\n",
    "# https://en.wikipedia.org/wiki/Inverse-variance_weighting\n",
    "\n",
    "def WeInVar_feature_vector(sentence, model, num_features, index2word_set):\n",
    "    words = sentence.split()\n",
    "    feature_vec = np.zeros((num_features, ), dtype='float32')\n",
    "    n_words = 0\n",
    "    var_combined = 0.0\n",
    "    for word in words:\n",
    "        if word in index2word_set:\n",
    "            n_words += 1\n",
    "            feature_vec = np.add(feature_vec, np.divide(model[word], np.var(model[word])))\n",
    "            var_combined = var_combined + np.divide(1, np.var(model[word]))\n",
    "    if (n_words > 0):\n",
    "        feature_vec = np.divide(feature_vec, var_combined+n_words)\n",
    "    return feature_vec\n"
   ]
  },
  {
   "cell_type": "code",
   "execution_count": 4,
   "metadata": {},
   "outputs": [
    {
     "name": "stdout",
     "output_type": "stream",
     "text": [
      "0.6539125177578349\n",
      "0.9236403283615906\n"
     ]
    }
   ],
   "source": [
    "# Test case 1\n",
    "# The two sentences are completely equivalent, as they mean the same thing.  \n",
    "\n",
    "sentence_1 = 'The bird is bathing in the sink.'\n",
    "sentence_2 = 'Birdie is washing itself in the water basin.'\n",
    "\n",
    "s1_afv = avg_feature_vector(sentence_1, model=glove_model,   num_features=300, index2word_set=index2word_set)\n",
    "s2_afv = avg_feature_vector(sentence_2, model=glove_model,num_features=300, index2word_set=index2word_set)\n",
    "sim = 1 - spatial.distance.cosine(s1_afv, s2_afv)\n",
    "print(sim)\n",
    "\n",
    "\n",
    "s1_cfv = WeInVar_feature_vector(sentence_1, model=glove_model,num_features=300, index2word_set=index2word_set)\n",
    "s2_cfv = WeInVar_feature_vector(sentence_2, model=glove_model,num_features=300, index2word_set=index2word_set)\n",
    "sim = 1 - spatial.distance.cosine(s1_cfv, s2_cfv)\n",
    "print(sim)"
   ]
  },
  {
   "cell_type": "code",
   "execution_count": 5,
   "metadata": {},
   "outputs": [
    {
     "name": "stdout",
     "output_type": "stream",
     "text": [
      "0.6682252848367785\n",
      "0.735840847325616\n"
     ]
    }
   ],
   "source": [
    "# Test case 2\n",
    "# The two sentences are mostly equivalent, but some unimportant details differ.\n",
    "\n",
    "sentence_1 = 'In May 2010, the troops attempted to invade Kabul.'\n",
    "sentence_2 = 'The US army invaded Kabul on May 7th last year, 2010.'\n",
    "\n",
    "s1_afv = avg_feature_vector(sentence_1, model=glove_model,   num_features=300, index2word_set=index2word_set)\n",
    "s2_afv = avg_feature_vector(sentence_2, model=glove_model,num_features=300, index2word_set=index2word_set)\n",
    "sim = 1 - spatial.distance.cosine(s1_afv, s2_afv)\n",
    "print(sim)\n",
    "\n",
    "\n",
    "s1_cfv = WeInVar_feature_vector(sentence_1, model=glove_model,num_features=300, index2word_set=index2word_set)\n",
    "s2_cfv = WeInVar_feature_vector(sentence_2, model=glove_model,num_features=300, index2word_set=index2word_set)\n",
    "sim = 1 - spatial.distance.cosine(s1_cfv, s2_cfv)\n",
    "print(sim)\n",
    "\n",
    "\n",
    "      "
   ]
  },
  {
   "cell_type": "code",
   "execution_count": 6,
   "metadata": {},
   "outputs": [
    {
     "name": "stdout",
     "output_type": "stream",
     "text": [
      "0.7894748904362346\n",
      "0.8878459569072047\n"
     ]
    }
   ],
   "source": [
    "# Test 3\n",
    "# The two sentences are roughly equivalent, but some important information differs/missing.\n",
    "\n",
    "sentence_1 = 'John said he is considered a witness but not a suspect.'\n",
    "sentence_2 = 'He is not a suspect anymore.\" John said.'\n",
    "\n",
    "s1_afv = avg_feature_vector(sentence_1, model=glove_model,   num_features=300, index2word_set=index2word_set)\n",
    "s2_afv = avg_feature_vector(sentence_2, model=glove_model,num_features=300, index2word_set=index2word_set)\n",
    "sim = 1 - spatial.distance.cosine(s1_afv, s2_afv)\n",
    "print(sim)\n",
    "\n",
    "\n",
    "s1_cfv = WeInVar_feature_vector(sentence_1, model=glove_model,num_features=300, index2word_set=index2word_set)\n",
    "s2_cfv = WeInVar_feature_vector(sentence_2, model=glove_model,num_features=300, index2word_set=index2word_set)\n",
    "sim = 1 - spatial.distance.cosine(s1_cfv, s2_cfv)\n",
    "print(sim)        "
   ]
  },
  {
   "cell_type": "code",
   "execution_count": 7,
   "metadata": {},
   "outputs": [
    {
     "name": "stdout",
     "output_type": "stream",
     "text": [
      "0.9539640381008274\n",
      "0.9219473037366839\n"
     ]
    }
   ],
   "source": [
    "# Test 4\n",
    "# The two sentences are not equivalent, but share some details.\n",
    "\n",
    "sentence_1 = 'They flew out of the nest in groups.'\n",
    "sentence_2 = 'They flew into the nest together.'\n",
    "\n",
    "s1_afv = avg_feature_vector(sentence_1, model=glove_model,   num_features=300, index2word_set=index2word_set)\n",
    "s2_afv = avg_feature_vector(sentence_2, model=glove_model,num_features=300, index2word_set=index2word_set)\n",
    "sim = 1 - spatial.distance.cosine(s1_afv, s2_afv)\n",
    "print(sim)\n",
    "\n",
    "\n",
    "s1_cfv = WeInVar_feature_vector(sentence_1, model=glove_model,num_features=300, index2word_set=index2word_set)\n",
    "s2_cfv = WeInVar_feature_vector(sentence_2, model=glove_model,num_features=300, index2word_set=index2word_set)\n",
    "sim = 1 - spatial.distance.cosine(s1_cfv, s2_cfv)\n",
    "print(sim)            "
   ]
  },
  {
   "cell_type": "code",
   "execution_count": 8,
   "metadata": {},
   "outputs": [
    {
     "name": "stdout",
     "output_type": "stream",
     "text": [
      "0.6929881319764487\n",
      "0.8759480898375229\n"
     ]
    }
   ],
   "source": [
    "# Test 5\n",
    "# The two sentences are not equivalent, but are on the same topic.\n",
    "    \n",
    "sentence_1 = 'The woman is playing the violin.'\n",
    "sentence_2 = 'The young lady enjoys listening to the guitar.'\n",
    "\n",
    "s1_afv = avg_feature_vector(sentence_1, model=glove_model,   num_features=300, index2word_set=index2word_set)\n",
    "s2_afv = avg_feature_vector(sentence_2, model=glove_model,num_features=300, index2word_set=index2word_set)\n",
    "sim = 1 - spatial.distance.cosine(s1_afv, s2_afv)\n",
    "print(sim)\n",
    "\n",
    "\n",
    "s1_cfv = WeInVar_feature_vector(sentence_1, model=glove_model,num_features=300, index2word_set=index2word_set)\n",
    "s2_cfv = WeInVar_feature_vector(sentence_2, model=glove_model,num_features=300, index2word_set=index2word_set)\n",
    "sim = 1 - spatial.distance.cosine(s1_cfv, s2_cfv)\n",
    "print(sim)               "
   ]
  },
  {
   "cell_type": "code",
   "execution_count": 9,
   "metadata": {},
   "outputs": [
    {
     "name": "stdout",
     "output_type": "stream",
     "text": [
      "0.653876231695043\n",
      "0.7143262707738096\n"
     ]
    }
   ],
   "source": [
    "# Test 6\n",
    "# The two sentences are on different topics.\n",
    "\n",
    "sentence_1 = 'John went horse back riding at dawn with a whole group of friends.'\n",
    "sentence_2 = 'Sunrise at dawn is a magnificent view to take in if you wake up early enough for it.'\n",
    "\n",
    "s1_afv = avg_feature_vector(sentence_1, model=glove_model,   num_features=300, index2word_set=index2word_set)\n",
    "s2_afv = avg_feature_vector(sentence_2, model=glove_model,num_features=300, index2word_set=index2word_set)\n",
    "sim = 1 - spatial.distance.cosine(s1_afv, s2_afv)\n",
    "print(sim)\n",
    "\n",
    "\n",
    "s1_cfv = WeInVar_feature_vector(sentence_1, model=glove_model,num_features=300, index2word_set=index2word_set)\n",
    "s2_cfv = WeInVar_feature_vector(sentence_2, model=glove_model,num_features=300, index2word_set=index2word_set)\n",
    "sim = 1 - spatial.distance.cosine(s1_cfv, s2_cfv)\n",
    "print(sim)        "
   ]
  }
 ],
 "metadata": {
  "kernelspec": {
   "display_name": "Python 3",
   "language": "python",
   "name": "python3"
  },
  "language_info": {
   "codemirror_mode": {
    "name": "ipython",
    "version": 3
   },
   "file_extension": ".py",
   "mimetype": "text/x-python",
   "name": "python",
   "nbconvert_exporter": "python",
   "pygments_lexer": "ipython3",
   "version": "3.6.4"
  }
 },
 "nbformat": 4,
 "nbformat_minor": 2
}
